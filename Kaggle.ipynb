{
 "cells": [
  {
   "cell_type": "code",
   "execution_count": 1,
   "metadata": {
    "_cell_guid": "b1076dfc-b9ad-4769-8c92-a6c4dae69d19",
    "_uuid": "8f2839f25d086af736a60e9eeb907d3b93b6e0e5",
    "execution": {
     "iopub.execute_input": "2021-02-28T19:13:12.377200Z",
     "iopub.status.busy": "2021-02-28T19:13:12.376371Z",
     "iopub.status.idle": "2021-02-28T19:13:12.381748Z",
     "shell.execute_reply": "2021-02-28T19:13:12.380999Z"
    },
    "papermill": {
     "duration": 0.025777,
     "end_time": "2021-02-28T19:13:12.381963",
     "exception": false,
     "start_time": "2021-02-28T19:13:12.356186",
     "status": "completed"
    },
    "tags": []
   },
   "outputs": [
    {
     "name": "stdout",
     "output_type": "stream",
     "text": [
      "/kaggle/input/nlp-intro-to-dl-2021/sample_submission.csv\n",
      "/kaggle/input/nlp-intro-to-dl-2021/train.csv\n",
      "/kaggle/input/nlp-intro-to-dl-2021/test.csv\n"
     ]
    }
   ],
   "source": [
    "# This Python 3 environment comes with many helpful analytics libraries installed\n",
    "# It is defined by the kaggle/python Docker image: https://github.com/kaggle/docker-python\n",
    "# For example, here's several helpful packages to load\n",
    "\n",
    "import numpy as np # linear algebra\n",
    "import pandas as pd # data processing, CSV file I/O (e.g. pd.read_csv)\n",
    "\n",
    "# Input data files are available in the read-only \"../input/\" directory\n",
    "# For example, running this (by clicking run or pressing Shift+Enter) will list all files under the input directory\n",
    "\n",
    "import os\n",
    "for dirname, _, filenames in os.walk('/kaggle/input'):\n",
    "    for filename in filenames:\n",
    "        print(os.path.join(dirname, filename))\n",
    "\n",
    "# You can write up to 20GB to the current directory (/kaggle/working/) that gets preserved as output when you create a version using \"Save & Run All\" \n",
    "# You can also write temporary files to /kaggle/temp/, but they won't be saved outside of the current session"
   ]
  },
  {
   "cell_type": "code",
   "execution_count": 2,
   "metadata": {
    "execution": {
     "iopub.execute_input": "2021-02-28T19:13:12.420002Z",
     "iopub.status.busy": "2021-02-28T19:13:12.419158Z",
     "iopub.status.idle": "2021-02-28T19:13:20.049536Z",
     "shell.execute_reply": "2021-02-28T19:13:20.048891Z"
    },
    "papermill": {
     "duration": 7.654178,
     "end_time": "2021-02-28T19:13:20.049701",
     "exception": false,
     "start_time": "2021-02-28T19:13:12.395523",
     "status": "completed"
    },
    "tags": []
   },
   "outputs": [
    {
     "data": {
      "text/html": [
       "<div>\n",
       "<style scoped>\n",
       "    .dataframe tbody tr th:only-of-type {\n",
       "        vertical-align: middle;\n",
       "    }\n",
       "\n",
       "    .dataframe tbody tr th {\n",
       "        vertical-align: top;\n",
       "    }\n",
       "\n",
       "    .dataframe thead th {\n",
       "        text-align: right;\n",
       "    }\n",
       "</style>\n",
       "<table border=\"1\" class=\"dataframe\">\n",
       "  <thead>\n",
       "    <tr style=\"text-align: right;\">\n",
       "      <th></th>\n",
       "      <th>text</th>\n",
       "      <th>source</th>\n",
       "    </tr>\n",
       "  </thead>\n",
       "  <tbody>\n",
       "    <tr>\n",
       "      <th>0</th>\n",
       "      <td>Российская сборная лидирует по итогам командно...</td>\n",
       "      <td>mchsgov</td>\n",
       "    </tr>\n",
       "    <tr>\n",
       "      <th>1</th>\n",
       "      <td>#СоветМЧС #МЧС #МЧСРОССИИ</td>\n",
       "      <td>mchsgov</td>\n",
       "    </tr>\n",
       "    <tr>\n",
       "      <th>2</th>\n",
       "      <td>Инспекторы ГИБДД Москвы приняли участие во Все...</td>\n",
       "      <td>mospolice</td>\n",
       "    </tr>\n",
       "    <tr>\n",
       "      <th>3</th>\n",
       "      <td>В Главную Военно-Морскую Базу БФ в г.Балтийск ...</td>\n",
       "      <td>mil</td>\n",
       "    </tr>\n",
       "    <tr>\n",
       "      <th>4</th>\n",
       "      <td>Обвиняемые в хищении денежных средств у 32 пож...</td>\n",
       "      <td>mospolice</td>\n",
       "    </tr>\n",
       "    <tr>\n",
       "      <th>...</th>\n",
       "      <td>...</td>\n",
       "      <td>...</td>\n",
       "    </tr>\n",
       "    <tr>\n",
       "      <th>9876</th>\n",
       "      <td>Расчеты комплексов С-300 выполнили боевые пуск...</td>\n",
       "      <td>mil</td>\n",
       "    </tr>\n",
       "    <tr>\n",
       "      <th>9877</th>\n",
       "      <td>#Repost @nataliapetrasheva&lt;br&gt;・・・&lt;br&gt;#щитилира...</td>\n",
       "      <td>mospolice</td>\n",
       "    </tr>\n",
       "    <tr>\n",
       "      <th>9878</th>\n",
       "      <td>В столичной полиции наградили победителей реги...</td>\n",
       "      <td>mospolice</td>\n",
       "    </tr>\n",
       "    <tr>\n",
       "      <th>9879</th>\n",
       "      <td>ВДВ России получили все бронеавтомобили «Тигр»...</td>\n",
       "      <td>mil</td>\n",
       "    </tr>\n",
       "    <tr>\n",
       "      <th>9880</th>\n",
       "      <td>#ДинастииПожарных #МЧС #МЧСРОССИИ&lt;br&gt;&lt;br&gt;О пож...</td>\n",
       "      <td>mchsgov</td>\n",
       "    </tr>\n",
       "  </tbody>\n",
       "</table>\n",
       "<p>9881 rows × 2 columns</p>\n",
       "</div>"
      ],
      "text/plain": [
       "                                                   text     source\n",
       "0     Российская сборная лидирует по итогам командно...    mchsgov\n",
       "1                             #СоветМЧС #МЧС #МЧСРОССИИ    mchsgov\n",
       "2     Инспекторы ГИБДД Москвы приняли участие во Все...  mospolice\n",
       "3     В Главную Военно-Морскую Базу БФ в г.Балтийск ...        mil\n",
       "4     Обвиняемые в хищении денежных средств у 32 пож...  mospolice\n",
       "...                                                 ...        ...\n",
       "9876  Расчеты комплексов С-300 выполнили боевые пуск...        mil\n",
       "9877  #Repost @nataliapetrasheva<br>・・・<br>#щитилира...  mospolice\n",
       "9878  В столичной полиции наградили победителей реги...  mospolice\n",
       "9879  ВДВ России получили все бронеавтомобили «Тигр»...        mil\n",
       "9880  #ДинастииПожарных #МЧС #МЧСРОССИИ<br><br>О пож...    mchsgov\n",
       "\n",
       "[9881 rows x 2 columns]"
      ]
     },
     "execution_count": 2,
     "metadata": {},
     "output_type": "execute_result"
    }
   ],
   "source": [
    "import pandas as pd\n",
    "import numpy as np\n",
    "import matplotlib.pyplot as plt\n",
    "from keras.preprocessing.sequence import pad_sequences\n",
    "from keras.preprocessing.text import Tokenizer\n",
    "from keras.callbacks import EarlyStopping\n",
    "from keras.models import Sequential\n",
    "import keras.utils as ku\n",
    "from sklearn.preprocessing import LabelEncoder\n",
    "from keras.utils import to_categorical\n",
    "\n",
    "import seaborn as sns\n",
    "from sklearn.model_selection import train_test_split\n",
    "from keras.models import Model\n",
    "from keras.layers import LSTM, Activation, Dense, Dropout, Input, Embedding,Flatten, SpatialDropout1D, Bidirectional,Conv1D, GlobalMaxPooling1D\n",
    "from keras.optimizers import RMSprop\n",
    "from keras.preprocessing import sequence\n",
    "from keras.callbacks import EarlyStopping\n",
    "#import torch\n",
    "#from torchtext import data\n",
    "#import torch.nn as nn\n",
    "%matplotlib inline\n",
    "df_train = pd.read_csv('/kaggle/input/nlp-intro-to-dl-2021/train.csv')\n",
    "df_test = pd.read_csv('/kaggle/input/nlp-intro-to-dl-2021/test.csv', )\n",
    "df_train\n"
   ]
  },
  {
   "cell_type": "code",
   "execution_count": 3,
   "metadata": {
    "execution": {
     "iopub.execute_input": "2021-02-28T19:13:20.097381Z",
     "iopub.status.busy": "2021-02-28T19:13:20.081752Z",
     "iopub.status.idle": "2021-02-28T19:13:32.751106Z",
     "shell.execute_reply": "2021-02-28T19:13:32.750517Z"
    },
    "papermill": {
     "duration": 12.687559,
     "end_time": "2021-02-28T19:13:32.751255",
     "exception": false,
     "start_time": "2021-02-28T19:13:20.063696",
     "status": "completed"
    },
    "tags": []
   },
   "outputs": [
    {
     "name": "stdout",
     "output_type": "stream",
     "text": [
      "Collecting pymorphy2\r\n",
      "  Downloading pymorphy2-0.9.1-py3-none-any.whl (55 kB)\r\n",
      "\u001b[K     |████████████████████████████████| 55 kB 749 kB/s \r\n",
      "\u001b[?25hCollecting dawg-python>=0.7.1\r\n",
      "  Downloading DAWG_Python-0.7.2-py2.py3-none-any.whl (11 kB)\r\n",
      "Collecting docopt>=0.6\r\n",
      "  Downloading docopt-0.6.2.tar.gz (25 kB)\r\n",
      "Collecting pymorphy2-dicts-ru<3.0,>=2.4\r\n",
      "  Downloading pymorphy2_dicts_ru-2.4.417127.4579844-py2.py3-none-any.whl (8.2 MB)\r\n",
      "\u001b[K     |████████████████████████████████| 8.2 MB 8.6 MB/s \r\n",
      "\u001b[?25hBuilding wheels for collected packages: docopt\r\n",
      "  Building wheel for docopt (setup.py) ... \u001b[?25l-\b \b\\\b \bdone\r\n",
      "\u001b[?25h  Created wheel for docopt: filename=docopt-0.6.2-py2.py3-none-any.whl size=13705 sha256=85648ed1e4a6164701e79faaf12e607cb4cc7e9532d9762acdc2f0fdc603f653\r\n",
      "  Stored in directory: /root/.cache/pip/wheels/72/b0/3f/1d95f96ff986c7dfffe46ce2be4062f38ebd04b506c77c81b9\r\n",
      "Successfully built docopt\r\n",
      "Installing collected packages: pymorphy2-dicts-ru, docopt, dawg-python, pymorphy2\r\n",
      "Successfully installed dawg-python-0.7.2 docopt-0.6.2 pymorphy2-0.9.1 pymorphy2-dicts-ru-2.4.417127.4579844\r\n"
     ]
    }
   ],
   "source": [
    "!pip install pymorphy2\n"
   ]
  },
  {
   "cell_type": "code",
   "execution_count": 4,
   "metadata": {
    "execution": {
     "iopub.execute_input": "2021-02-28T19:13:32.816775Z",
     "iopub.status.busy": "2021-02-28T19:13:32.816083Z",
     "iopub.status.idle": "2021-02-28T19:13:33.440119Z",
     "shell.execute_reply": "2021-02-28T19:13:33.439517Z"
    },
    "papermill": {
     "duration": 0.658254,
     "end_time": "2021-02-28T19:13:33.440278",
     "exception": false,
     "start_time": "2021-02-28T19:13:32.782024",
     "status": "completed"
    },
    "tags": []
   },
   "outputs": [],
   "source": [
    "from nltk.corpus import stopwords\n",
    "from pymorphy2 import MorphAnalyzer"
   ]
  },
  {
   "cell_type": "code",
   "execution_count": 5,
   "metadata": {
    "execution": {
     "iopub.execute_input": "2021-02-28T19:13:33.512247Z",
     "iopub.status.busy": "2021-02-28T19:13:33.511436Z",
     "iopub.status.idle": "2021-02-28T19:13:33.936740Z",
     "shell.execute_reply": "2021-02-28T19:13:33.936139Z"
    },
    "papermill": {
     "duration": 0.467093,
     "end_time": "2021-02-28T19:13:33.936911",
     "exception": false,
     "start_time": "2021-02-28T19:13:33.469818",
     "status": "completed"
    },
    "tags": []
   },
   "outputs": [],
   "source": [
    "import re\n",
    "from pymorphy2 import MorphAnalyzer\n",
    "from nltk.corpus import stopwords\n",
    "patterns = \"[A-Za-z0-9!#$%&'()*+,./:;<=>?@[\\]^_`{|}~—\\\"\\-]+\"\n",
    "stopwords_ru = stopwords.words(\"russian\")\n",
    "morph = MorphAnalyzer()\n",
    "def lemmatize(doc):\n",
    "    doc = re.sub(patterns, ' ', str(doc))\n",
    "    tokens = []\n",
    "    for token in doc.split():\n",
    "        if token and token not in stopwords_ru:\n",
    "            token = token.strip()\n",
    "            token = morph.normal_forms(token)[0]\n",
    "            \n",
    "            tokens.append(token)\n",
    "    return tokens"
   ]
  },
  {
   "cell_type": "code",
   "execution_count": 6,
   "metadata": {
    "execution": {
     "iopub.execute_input": "2021-02-28T19:13:34.032759Z",
     "iopub.status.busy": "2021-02-28T19:13:34.022271Z",
     "iopub.status.idle": "2021-02-28T19:17:07.801928Z",
     "shell.execute_reply": "2021-02-28T19:17:07.801220Z"
    },
    "papermill": {
     "duration": 213.835704,
     "end_time": "2021-02-28T19:17:07.802145",
     "exception": false,
     "start_time": "2021-02-28T19:13:33.966441",
     "status": "completed"
    },
    "tags": []
   },
   "outputs": [],
   "source": [
    "df_train['text'] = df_train['text'].apply(lemmatize)"
   ]
  },
  {
   "cell_type": "code",
   "execution_count": 7,
   "metadata": {
    "execution": {
     "iopub.execute_input": "2021-02-28T19:17:07.903524Z",
     "iopub.status.busy": "2021-02-28T19:17:07.887817Z",
     "iopub.status.idle": "2021-02-28T19:17:45.906757Z",
     "shell.execute_reply": "2021-02-28T19:17:45.906124Z"
    },
    "papermill": {
     "duration": 38.075062,
     "end_time": "2021-02-28T19:17:45.906903",
     "exception": false,
     "start_time": "2021-02-28T19:17:07.831841",
     "status": "completed"
    },
    "tags": []
   },
   "outputs": [],
   "source": [
    "df_test['text'] = df_test['text'].apply(lemmatize)"
   ]
  },
  {
   "cell_type": "code",
   "execution_count": 8,
   "metadata": {
    "execution": {
     "iopub.execute_input": "2021-02-28T19:17:45.969795Z",
     "iopub.status.busy": "2021-02-28T19:17:45.969130Z",
     "iopub.status.idle": "2021-02-28T19:17:45.973233Z",
     "shell.execute_reply": "2021-02-28T19:17:45.973791Z"
    },
    "papermill": {
     "duration": 0.037139,
     "end_time": "2021-02-28T19:17:45.973963",
     "exception": false,
     "start_time": "2021-02-28T19:17:45.936824",
     "status": "completed"
    },
    "tags": []
   },
   "outputs": [],
   "source": [
    "train_text = df_train['text']\n",
    "train_cat = df_train['source']\n",
    "test_text = df_test['text']\n"
   ]
  },
  {
   "cell_type": "code",
   "execution_count": 9,
   "metadata": {
    "execution": {
     "iopub.execute_input": "2021-02-28T19:17:46.036936Z",
     "iopub.status.busy": "2021-02-28T19:17:46.036280Z",
     "iopub.status.idle": "2021-02-28T19:17:47.594084Z",
     "shell.execute_reply": "2021-02-28T19:17:47.594658Z"
    },
    "papermill": {
     "duration": 1.591039,
     "end_time": "2021-02-28T19:17:47.594856",
     "exception": false,
     "start_time": "2021-02-28T19:17:46.003817",
     "status": "completed"
    },
    "tags": []
   },
   "outputs": [],
   "source": [
    "max_features = 5000\n",
    "max_len = 250\n",
    "tok = Tokenizer(num_words=max_features)\n",
    "tok.fit_on_texts(list(train_text) + list(test_text))\n",
    "sequences = tok.texts_to_sequences(train_text)\n",
    "X_train = sequence.pad_sequences(sequences,maxlen=max_len,padding=\"post\")\n",
    "\n",
    "test_sequences = tok.texts_to_sequences(test_text)\n",
    "X_test = sequence.pad_sequences(test_sequences,maxlen=max_len,padding=\"post\")\n"
   ]
  },
  {
   "cell_type": "code",
   "execution_count": 10,
   "metadata": {
    "execution": {
     "iopub.execute_input": "2021-02-28T19:17:47.657818Z",
     "iopub.status.busy": "2021-02-28T19:17:47.657163Z",
     "iopub.status.idle": "2021-02-28T19:17:47.665595Z",
     "shell.execute_reply": "2021-02-28T19:17:47.666174Z"
    },
    "papermill": {
     "duration": 0.041842,
     "end_time": "2021-02-28T19:17:47.666356",
     "exception": false,
     "start_time": "2021-02-28T19:17:47.624514",
     "status": "completed"
    },
    "tags": []
   },
   "outputs": [],
   "source": [
    "encoder = LabelEncoder()\n",
    "encoder.fit(train_cat)\n",
    "y_train = encoder.transform(train_cat)\n",
    "\n",
    "y_train = to_categorical(y_train, 4)\n"
   ]
  },
  {
   "cell_type": "code",
   "execution_count": 11,
   "metadata": {
    "execution": {
     "iopub.execute_input": "2021-02-28T19:17:47.729789Z",
     "iopub.status.busy": "2021-02-28T19:17:47.729081Z",
     "iopub.status.idle": "2021-02-28T19:17:48.193044Z",
     "shell.execute_reply": "2021-02-28T19:17:48.192352Z"
    },
    "papermill": {
     "duration": 0.49663,
     "end_time": "2021-02-28T19:17:48.193195",
     "exception": false,
     "start_time": "2021-02-28T19:17:47.696565",
     "status": "completed"
    },
    "tags": []
   },
   "outputs": [
    {
     "name": "stdout",
     "output_type": "stream",
     "text": [
      "Model: \"sequential\"\n",
      "_________________________________________________________________\n",
      "Layer (type)                 Output Shape              Param #   \n",
      "=================================================================\n",
      "embedding (Embedding)        (None, 250, 128)          640000    \n",
      "_________________________________________________________________\n",
      "spatial_dropout1d (SpatialDr (None, 250, 128)          0         \n",
      "_________________________________________________________________\n",
      "conv1d (Conv1D)              (None, 82, 64)            57408     \n",
      "_________________________________________________________________\n",
      "bidirectional (Bidirectional (None, 256)               197632    \n",
      "_________________________________________________________________\n",
      "flatten (Flatten)            (None, 256)               0         \n",
      "_________________________________________________________________\n",
      "dense (Dense)                (None, 4)                 1028      \n",
      "=================================================================\n",
      "Total params: 896,068\n",
      "Trainable params: 896,068\n",
      "Non-trainable params: 0\n",
      "_________________________________________________________________\n",
      "None\n"
     ]
    }
   ],
   "source": [
    "model = Sequential()\n",
    "model.add(Embedding(max_features,128, input_length = X_train.shape[1]))\n",
    "model.add(SpatialDropout1D(0.2))\n",
    "#model.add(Conv1D(128, 7, padding=\"valid\",activation=\"relu\",strides=3))\n",
    "model.add(Conv1D(64, 7, padding=\"valid\",activation=\"relu\",strides=3))\n",
    "\n",
    "model.add(Bidirectional(LSTM(128, dropout=0.2, recurrent_dropout=0.2)))\n",
    "\n",
    "model.add(Flatten())\n",
    "\n",
    "model.add(Dense(4,activation='relu'))\n",
    "model.compile(loss = 'binary_crossentropy', optimizer='adam',metrics = ['accuracy'])\n",
    "print(model.summary())"
   ]
  },
  {
   "cell_type": "code",
   "execution_count": 12,
   "metadata": {
    "execution": {
     "iopub.execute_input": "2021-02-28T19:17:48.261407Z",
     "iopub.status.busy": "2021-02-28T19:17:48.260777Z",
     "iopub.status.idle": "2021-02-28T19:21:30.034948Z",
     "shell.execute_reply": "2021-02-28T19:21:30.034215Z"
    },
    "papermill": {
     "duration": 221.810206,
     "end_time": "2021-02-28T19:21:30.035109",
     "exception": false,
     "start_time": "2021-02-28T19:17:48.224903",
     "status": "completed"
    },
    "tags": []
   },
   "outputs": [
    {
     "name": "stdout",
     "output_type": "stream",
     "text": [
      "Epoch 1/3\n",
      "309/309 [==============================] - 78s 233ms/step - loss: 0.6322 - accuracy: 0.6014\n",
      "Epoch 2/3\n",
      "309/309 [==============================] - 72s 233ms/step - loss: 0.1679 - accuracy: 0.9629\n",
      "Epoch 3/3\n",
      "309/309 [==============================] - 72s 233ms/step - loss: 0.1282 - accuracy: 0.9756\n"
     ]
    },
    {
     "data": {
      "text/plain": [
       "<tensorflow.python.keras.callbacks.History at 0x7fcfa9bc21d0>"
      ]
     },
     "execution_count": 12,
     "metadata": {},
     "output_type": "execute_result"
    }
   ],
   "source": [
    "batch_size = 32\n",
    "model.fit(X_train, y_train, epochs=3 , verbose=1, batch_size = batch_size) "
   ]
  },
  {
   "cell_type": "markdown",
   "metadata": {
    "papermill": {
     "duration": 0.336972,
     "end_time": "2021-02-28T19:21:30.686082",
     "exception": false,
     "start_time": "2021-02-28T19:21:30.349110",
     "status": "completed"
    },
    "tags": []
   },
   "source": []
  },
  {
   "cell_type": "code",
   "execution_count": 13,
   "metadata": {
    "execution": {
     "iopub.execute_input": "2021-02-28T19:21:31.312225Z",
     "iopub.status.busy": "2021-02-28T19:21:31.311522Z",
     "iopub.status.idle": "2021-02-28T19:21:33.476943Z",
     "shell.execute_reply": "2021-02-28T19:21:33.476387Z"
    },
    "papermill": {
     "duration": 2.48159,
     "end_time": "2021-02-28T19:21:33.477101",
     "exception": false,
     "start_time": "2021-02-28T19:21:30.995511",
     "status": "completed"
    },
    "tags": []
   },
   "outputs": [],
   "source": [
    "pred = model.predict(X_test)"
   ]
  },
  {
   "cell_type": "code",
   "execution_count": 14,
   "metadata": {
    "execution": {
     "iopub.execute_input": "2021-02-28T19:21:34.107580Z",
     "iopub.status.busy": "2021-02-28T19:21:34.106730Z",
     "iopub.status.idle": "2021-02-28T19:21:34.112087Z",
     "shell.execute_reply": "2021-02-28T19:21:34.111197Z"
    },
    "papermill": {
     "duration": 0.322214,
     "end_time": "2021-02-28T19:21:34.112276",
     "exception": false,
     "start_time": "2021-02-28T19:21:33.790062",
     "status": "completed"
    },
    "tags": []
   },
   "outputs": [
    {
     "name": "stdout",
     "output_type": "stream",
     "text": [
      "[[0.         2.9106402  0.         0.        ]\n",
      " [3.8235075  0.         0.         0.        ]\n",
      " [0.2696989  0.02917132 0.15604421 0.2705114 ]\n",
      " ...\n",
      " [3.1203964  0.         0.         0.        ]\n",
      " [0.         3.2814345  0.         0.        ]\n",
      " [0.         0.         1.1717474  0.        ]]\n"
     ]
    }
   ],
   "source": [
    "print(pred)"
   ]
  },
  {
   "cell_type": "code",
   "execution_count": 15,
   "metadata": {
    "execution": {
     "iopub.execute_input": "2021-02-28T19:21:34.769226Z",
     "iopub.status.busy": "2021-02-28T19:21:34.768542Z",
     "iopub.status.idle": "2021-02-28T19:21:34.954850Z",
     "shell.execute_reply": "2021-02-28T19:21:34.953212Z"
    },
    "papermill": {
     "duration": 0.532019,
     "end_time": "2021-02-28T19:21:34.955016",
     "exception": false,
     "start_time": "2021-02-28T19:21:34.422997",
     "status": "completed"
    },
    "tags": []
   },
   "outputs": [],
   "source": [
    "def f(X):\n",
    "    mx = 0\n",
    "    ans = 0\n",
    "    for i in range(4):\n",
    "        if X[i] > mx:\n",
    "            mx = X[i]\n",
    "            ans = encoder.inverse_transform([i])[0]\n",
    "    return ans\n",
    "df_test.text = list(map(f, pred))\n",
    "\n"
   ]
  },
  {
   "cell_type": "code",
   "execution_count": 16,
   "metadata": {
    "execution": {
     "iopub.execute_input": "2021-02-28T19:21:35.598293Z",
     "iopub.status.busy": "2021-02-28T19:21:35.597278Z",
     "iopub.status.idle": "2021-02-28T19:21:35.600226Z",
     "shell.execute_reply": "2021-02-28T19:21:35.599720Z"
    },
    "papermill": {
     "duration": 0.334163,
     "end_time": "2021-02-28T19:21:35.600434",
     "exception": false,
     "start_time": "2021-02-28T19:21:35.266271",
     "status": "completed"
    },
    "tags": []
   },
   "outputs": [],
   "source": [
    "df_test.rename(columns={'text':'Category'}, inplace = True)\n",
    "df_test.index.rename('Id', inplace = True)"
   ]
  },
  {
   "cell_type": "code",
   "execution_count": 17,
   "metadata": {
    "execution": {
     "iopub.execute_input": "2021-02-28T19:21:36.246070Z",
     "iopub.status.busy": "2021-02-28T19:21:36.245253Z",
     "iopub.status.idle": "2021-02-28T19:21:36.249043Z",
     "shell.execute_reply": "2021-02-28T19:21:36.249574Z"
    },
    "papermill": {
     "duration": 0.32859,
     "end_time": "2021-02-28T19:21:36.249762",
     "exception": false,
     "start_time": "2021-02-28T19:21:35.921172",
     "status": "completed"
    },
    "tags": []
   },
   "outputs": [
    {
     "data": {
      "text/html": [
       "<div>\n",
       "<style scoped>\n",
       "    .dataframe tbody tr th:only-of-type {\n",
       "        vertical-align: middle;\n",
       "    }\n",
       "\n",
       "    .dataframe tbody tr th {\n",
       "        vertical-align: top;\n",
       "    }\n",
       "\n",
       "    .dataframe thead th {\n",
       "        text-align: right;\n",
       "    }\n",
       "</style>\n",
       "<table border=\"1\" class=\"dataframe\">\n",
       "  <thead>\n",
       "    <tr style=\"text-align: right;\">\n",
       "      <th></th>\n",
       "      <th>Category</th>\n",
       "    </tr>\n",
       "    <tr>\n",
       "      <th>Id</th>\n",
       "      <th></th>\n",
       "    </tr>\n",
       "  </thead>\n",
       "  <tbody>\n",
       "    <tr>\n",
       "      <th>0</th>\n",
       "      <td>mil</td>\n",
       "    </tr>\n",
       "    <tr>\n",
       "      <th>1</th>\n",
       "      <td>mchsgov</td>\n",
       "    </tr>\n",
       "    <tr>\n",
       "      <th>2</th>\n",
       "      <td>russianpost</td>\n",
       "    </tr>\n",
       "    <tr>\n",
       "      <th>3</th>\n",
       "      <td>russianpost</td>\n",
       "    </tr>\n",
       "    <tr>\n",
       "      <th>4</th>\n",
       "      <td>russianpost</td>\n",
       "    </tr>\n",
       "  </tbody>\n",
       "</table>\n",
       "</div>"
      ],
      "text/plain": [
       "       Category\n",
       "Id             \n",
       "0           mil\n",
       "1       mchsgov\n",
       "2   russianpost\n",
       "3   russianpost\n",
       "4   russianpost"
      ]
     },
     "execution_count": 17,
     "metadata": {},
     "output_type": "execute_result"
    }
   ],
   "source": [
    "df_test.head()"
   ]
  },
  {
   "cell_type": "code",
   "execution_count": 18,
   "metadata": {
    "execution": {
     "iopub.execute_input": "2021-02-28T19:21:36.879345Z",
     "iopub.status.busy": "2021-02-28T19:21:36.878685Z",
     "iopub.status.idle": "2021-02-28T19:21:36.891494Z",
     "shell.execute_reply": "2021-02-28T19:21:36.890952Z"
    },
    "papermill": {
     "duration": 0.327737,
     "end_time": "2021-02-28T19:21:36.891661",
     "exception": false,
     "start_time": "2021-02-28T19:21:36.563924",
     "status": "completed"
    },
    "tags": []
   },
   "outputs": [],
   "source": [
    "df_test.to_csv(\"sub.csv\")"
   ]
  },
  {
   "cell_type": "code",
   "execution_count": null,
   "metadata": {
    "papermill": {
     "duration": 0.316463,
     "end_time": "2021-02-28T19:21:37.519937",
     "exception": false,
     "start_time": "2021-02-28T19:21:37.203474",
     "status": "completed"
    },
    "tags": []
   },
   "outputs": [],
   "source": []
  }
 ],
 "metadata": {
  "kernelspec": {
   "display_name": "Python 3",
   "language": "python",
   "name": "python3"
  },
  "language_info": {
   "codemirror_mode": {
    "name": "ipython",
    "version": 3
   },
   "file_extension": ".py",
   "mimetype": "text/x-python",
   "name": "python",
   "nbconvert_exporter": "python",
   "pygments_lexer": "ipython3",
   "version": "3.7.9"
  },
  "papermill": {
   "default_parameters": {},
   "duration": 512.962981,
   "end_time": "2021-02-28T19:21:39.355482",
   "environment_variables": {},
   "exception": null,
   "input_path": "__notebook__.ipynb",
   "output_path": "__notebook__.ipynb",
   "parameters": {},
   "start_time": "2021-02-28T19:13:06.392501",
   "version": "2.2.2"
  }
 },
 "nbformat": 4,
 "nbformat_minor": 4
}
